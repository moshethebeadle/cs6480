{
 "cells": [
  {
   "cell_type": "markdown",
   "metadata": {},
   "source": [
    "# Submission\n",
    "\n",
    "Jacob (Jake) Toronto\n",
    "\n",
    "10991530\n",
    "\n",
    "Spring 2024\n",
    "\n",
    "CS 6480 Advanced Machine Learning\n",
    "\n",
    "Dr. Larry Zeng"
   ]
  },
  {
   "cell_type": "markdown",
   "metadata": {},
   "source": [
    "# Assignment\n",
    "\n",
    "In this assignment, I use Gradient Descent to calculate the weights and biases of the neural network in Assignment 1 (which represents the XOR function).\n",
    "\n"
   ]
  },
  {
   "cell_type": "code",
   "execution_count": 99,
   "metadata": {},
   "outputs": [],
   "source": [
    "from sympy import *\n",
    "import numpy as np"
   ]
  },
  {
   "cell_type": "code",
   "execution_count": 100,
   "metadata": {},
   "outputs": [
    {
     "data": {
      "text/plain": [
       "array([[0, 0, 0],\n",
       "       [0, 1, 1],\n",
       "       [1, 0, 1],\n",
       "       [1, 1, 0]])"
      ]
     },
     "execution_count": 100,
     "metadata": {},
     "output_type": "execute_result"
    }
   ],
   "source": [
    "data = np.array([\n",
    "    [0, 0, 0],\n",
    "    [0, 1, 1],\n",
    "    [1, 0, 1],\n",
    "    [1, 1, 0]\n",
    "])\n",
    "data"
   ]
  },
  {
   "cell_type": "code",
   "execution_count": 128,
   "metadata": {},
   "outputs": [],
   "source": [
    "# create array symbols to represent the actual inputs and outputs\n",
    "u1 = IndexedBase('u_{1}')\n",
    "u2 = IndexedBase('u_{2}')\n",
    "z = IndexedBase('z')\n",
    "\n",
    "# now create all the other symbols\n",
    "w1, w2, b1, w3, w4, b2, w5, w6, b3 = symbols('w_{1}, w_{2}, b_{1}, w_{3}, w_{4}, b_{2}, w_{5}, w_{6}, b_{3}')\n",
    "y1, y2, y3 = symbols('y_{1}, y_{2}, y_{3}')\n",
    "v1, v2, v3 = symbols('v_{1}, v_{2}, v_{3}')\n",
    "z_hat = symbols('z\\^{}')\n",
    "n = symbols('n')"
   ]
  },
  {
   "cell_type": "code",
   "execution_count": 129,
   "metadata": {},
   "outputs": [
    {
     "data": {
      "text/plain": [
       "{w_{1}: 0.21282860737604337,\n",
       " w_{2}: 0.13432801109311543,\n",
       " b_{1}: 0.3608624434680727,\n",
       " w_{3}: 0.9449344143498914,\n",
       " w_{4}: 0.2345979080750652,\n",
       " b_{2}: 0.41986890257840315,\n",
       " w_{5}: 0.8575476807742052,\n",
       " w_{6}: 0.7983736207241181,\n",
       " b_{3}: 0.825486610157341,\n",
       " u_{1}[1]: 0,\n",
       " u_{1}[2]: 0,\n",
       " u_{1}[3]: 1,\n",
       " u_{1}[4]: 1,\n",
       " u_{2}[1]: 0,\n",
       " u_{2}[2]: 1,\n",
       " u_{2}[3]: 0,\n",
       " u_{2}[4]: 1,\n",
       " z[1]: 0,\n",
       " z[2]: 1,\n",
       " z[3]: 1,\n",
       " z[4]: 0}"
      ]
     },
     "execution_count": 129,
     "metadata": {},
     "output_type": "execute_result"
    }
   ],
   "source": [
    "import random as r\n",
    "\n",
    "# initialize the weights and biases to random values in range (0, 1)\n",
    "values = {k: r.random() for k in [w1, w2, b1, w3, w4, b2, w5, w6, b3]}\n",
    "\n",
    "# add the known data points that we'll use later to substitute into our expression\n",
    "values.update({u1[i]: v for i, v in enumerate(data[:,0], start=1)})\n",
    "values.update({u2[i]: v for i, v in enumerate(data[:,1], start=1)})\n",
    "values.update({z[i]: v for i, v in enumerate(data[:,2], start=1)})\n",
    "values"
   ]
  },
  {
   "cell_type": "code",
   "execution_count": 130,
   "metadata": {},
   "outputs": [
    {
     "name": "stdout",
     "output_type": "stream",
     "text": [
      "<class 'sympy.core.symbol.Symbol'>\n"
     ]
    },
    {
     "data": {
      "text/latex": [
       "$\\displaystyle \\sum_{i=1}^{4} 0.5 \\left(z\\^{} - {z}_{i}\\right)^{2}$"
      ],
      "text/plain": [
       "Sum(0.5*(z\\^{} - z[i])**2, (i, 1, 4))"
      ]
     },
     "execution_count": 130,
     "metadata": {},
     "output_type": "execute_result"
    }
   ],
   "source": [
    "# now the Loss function\n",
    "i = symbols('i')\n",
    "print(type(z_hat))\n",
    "L = Sum(1/2*(z_hat - z[i])**2, (i, 1, 4))\n",
    "L"
   ]
  },
  {
   "cell_type": "code",
   "execution_count": 131,
   "metadata": {},
   "outputs": [
    {
     "data": {
      "text/latex": [
       "$\\displaystyle \\frac{1}{1 + e^{- x}}$"
      ],
      "text/plain": [
       "1/(1 + exp(-x))"
      ]
     },
     "execution_count": 131,
     "metadata": {},
     "output_type": "execute_result"
    }
   ],
   "source": [
    "# Logistic function\n",
    "x = symbols('x')\n",
    "sigma = 1 / (1 + exp(-x))\n",
    "sigma"
   ]
  },
  {
   "cell_type": "code",
   "execution_count": 132,
   "metadata": {},
   "outputs": [
    {
     "data": {
      "text/latex": [
       "$\\displaystyle \\sum_{i=1}^{4} 0.5 \\left(- {z}_{i} + \\frac{1}{e^{- b_{3} - \\frac{w_{5}}{e^{- b_{1} - w_{1} {u_{1}}_{i} - w_{2} {u_{2}}_{i}} + 1} - \\frac{w_{6}}{e^{- b_{2} - w_{3} {u_{1}}_{i} - w_{4} {u_{2}}_{i}} + 1}} + 1}\\right)^{2}$"
      ],
      "text/plain": [
       "Sum(0.5*(-z[i] + 1/(exp(-b_{3} - w_{5}/(exp(-b_{1} - w_{1}*u_{1}[i] - w_{2}*u_{2}[i]) + 1) - w_{6}/(exp(-b_{2} - w_{3}*u_{1}[i] - w_{4}*u_{2}[i]) + 1)) + 1))**2, (i, 1, 4))"
      ]
     },
     "execution_count": 132,
     "metadata": {},
     "output_type": "execute_result"
    }
   ],
   "source": [
    "# now replace all the variables down to the barebones\n",
    "L_full = L.subs(values).subs({\n",
    "    z_hat: sigma.subs(x, y3)\n",
    "}).subs({\n",
    "    y3: w5*v1 + w6*v2 + b3\n",
    "}).subs({\n",
    "    v1: sigma.subs(x, y1)\n",
    "}).subs({\n",
    "    v2: sigma.subs(x, y2)\n",
    "}).subs({\n",
    "    y1: w1 * u1[i] + w2 * u2[i] + b1\n",
    "}).subs({\n",
    "    y2: w3 * u1[i] + w4 * u2[i] + b2\n",
    "})\n",
    "L_full"
   ]
  },
  {
   "cell_type": "code",
   "execution_count": 133,
   "metadata": {},
   "outputs": [
    {
     "data": {
      "text/latex": [
       "$\\displaystyle \\sum_{i=1}^{4} 0.5 \\left(- {z}_{i} + \\frac{1}{0.438021794742609 e^{- \\frac{0.857547680774205}{0.697074879075079 e^{- 0.212828607376043 {u_{1}}_{i} - 0.134328011093115 {u_{2}}_{i}} + 1} - \\frac{0.798373620724118}{0.657132962605428 e^{- 0.944934414349891 {u_{1}}_{i} - 0.234597908075065 {u_{2}}_{i}} + 1}} + 1}\\right)^{2}$"
      ],
      "text/plain": [
       "Sum(0.5*(-z[i] + 1/(0.438021794742609*exp(-0.857547680774205/(0.697074879075079*exp(-0.212828607376043*u_{1}[i] - 0.134328011093115*u_{2}[i]) + 1) - 0.798373620724118/(0.657132962605428*exp(-0.944934414349891*u_{1}[i] - 0.234597908075065*u_{2}[i]) + 1)) + 1))**2, (i, 1, 4))"
      ]
     },
     "execution_count": 133,
     "metadata": {},
     "output_type": "execute_result"
    }
   ],
   "source": [
    "L_full.subs(values)"
   ]
  },
  {
   "cell_type": "code",
   "execution_count": 134,
   "metadata": {},
   "outputs": [
    {
     "data": {
      "text/latex": [
       "$\\displaystyle 0.778925788532105$"
      ],
      "text/plain": [
       "0.778925788532105"
      ]
     },
     "execution_count": 134,
     "metadata": {},
     "output_type": "execute_result"
    }
   ],
   "source": [
    "L_full.subs(values).doit().subs(values)"
   ]
  },
  {
   "cell_type": "code",
   "execution_count": 114,
   "metadata": {},
   "outputs": [
    {
     "data": {
      "text/latex": [
       "$\\displaystyle \\sum_{i=1}^{4} \\left(1.0 z\\^{} - 1.0 {z}_{i}\\right)$"
      ],
      "text/plain": [
       "Sum(1.0*z\\^{} - 1.0*z[i], (i, 1, 4))"
      ]
     },
     "execution_count": 114,
     "metadata": {},
     "output_type": "execute_result"
    }
   ],
   "source": [
    "diff(L, z_hat)"
   ]
  }
 ],
 "metadata": {
  "kernelspec": {
   "display_name": "Python 3",
   "language": "python",
   "name": "python3"
  },
  "language_info": {
   "codemirror_mode": {
    "name": "ipython",
    "version": 3
   },
   "file_extension": ".py",
   "mimetype": "text/x-python",
   "name": "python",
   "nbconvert_exporter": "python",
   "pygments_lexer": "ipython3",
   "version": "3.11.4"
  }
 },
 "nbformat": 4,
 "nbformat_minor": 2
}
