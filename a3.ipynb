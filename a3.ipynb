{
 "cells": [
  {
   "cell_type": "markdown",
   "metadata": {},
   "source": [
    "# A3\n",
    "\n",
    "Jacob (Jake) Toronto\n",
    "\n",
    "10991530\n",
    "\n",
    "Spring 2024\n",
    "\n",
    "CS 6480 Advanced Machine Learning\n",
    "\n",
    "Dr. Larry Zeng"
   ]
  },
  {
   "cell_type": "code",
   "execution_count": 2,
   "metadata": {},
   "outputs": [
    {
     "name": "stdout",
     "output_type": "stream",
     "text": [
      "/usr/local/bin/python3\n"
     ]
    }
   ],
   "source": [
    "!which python3"
   ]
  },
  {
   "cell_type": "code",
   "execution_count": 3,
   "metadata": {},
   "outputs": [
    {
     "name": "stdout",
     "output_type": "stream",
     "text": [
      "Collecting keras\n",
      "  Downloading keras-2.11.0-py2.py3-none-any.whl (1.7 MB)\n",
      "\u001b[K     |████████████████████████████████| 1.7 MB 3.9 MB/s eta 0:00:01\n",
      "\u001b[?25hInstalling collected packages: keras\n",
      "Successfully installed keras-2.11.0\n",
      "\u001b[33mWARNING: You are using pip version 20.1.1; however, version 23.3.2 is available.\n",
      "You should consider upgrading via the '/usr/local/bin/python3 -m pip install --upgrade pip' command.\u001b[0m\n"
     ]
    },
    {
     "ename": "ModuleNotFoundError",
     "evalue": "No module named 'keras'",
     "output_type": "error",
     "traceback": [
      "\u001b[0;31m---------------------------------------------------------------------------\u001b[0m",
      "\u001b[0;31mModuleNotFoundError\u001b[0m                       Traceback (most recent call last)",
      "Cell \u001b[0;32mIn[3], line 2\u001b[0m\n\u001b[1;32m      1\u001b[0m get_ipython()\u001b[38;5;241m.\u001b[39msystem(\u001b[38;5;124m'\u001b[39m\u001b[38;5;124mpython3 -m pip install keras\u001b[39m\u001b[38;5;124m'\u001b[39m)\n\u001b[0;32m----> 2\u001b[0m \u001b[38;5;28;01mimport\u001b[39;00m \u001b[38;5;21;01mkeras\u001b[39;00m\n\u001b[1;32m      3\u001b[0m \u001b[38;5;28;01mfrom\u001b[39;00m \u001b[38;5;21;01mkeras\u001b[39;00m \u001b[38;5;28;01mimport\u001b[39;00m layers\n\u001b[1;32m      4\u001b[0m \u001b[38;5;28;01mfrom\u001b[39;00m \u001b[38;5;21;01mkeras\u001b[39;00m \u001b[38;5;28;01mimport\u001b[39;00m ops\n",
      "\u001b[0;31mModuleNotFoundError\u001b[0m: No module named 'keras'"
     ]
    }
   ],
   "source": [
    "!python3 -m pip install keras\n",
    "import keras\n",
    "from keras import layers\n",
    "from keras import ops"
   ]
  },
  {
   "cell_type": "code",
   "execution_count": null,
   "metadata": {},
   "outputs": [],
   "source": []
  },
  {
   "cell_type": "code",
   "execution_count": 25,
   "metadata": {},
   "outputs": [
    {
     "name": "stdout",
     "output_type": "stream",
     "text": [
      "input [[0 0]\n",
      " [0 1]\n",
      " [1 0]\n",
      " [1 1]]\n",
      "output [0 1 1 0]\n",
      "[0 0 0 0 0 0 0] [0.05 0.1  0.3  0.5  0.7  0.8  0.9 ] [-2.99573227 -2.30258509 -1.2039728  -0.69314718 -0.35667494 -0.22314355\n",
      " -0.10536052] [1 1 1 1 1 1 1] [0.95 0.9  0.7  0.5  0.3  0.2  0.1 ] [-0.05129329 -0.10536052 -0.35667494 -0.69314718 -1.2039728  -1.60943791\n",
      " -2.30258509]\n",
      "[-0.05129329 -0.10536052 -0.35667494 -0.69314718 -1.2039728  -1.60943791\n",
      " -2.30258509]\n"
     ]
    },
    {
     "data": {
      "text/plain": [
       "0.9032102491854481"
      ]
     },
     "execution_count": 25,
     "metadata": {},
     "output_type": "execute_result"
    }
   ],
   "source": [
    "import math\n",
    "import numpy as np\n",
    "\n",
    "input = np.array([[0,0],[0,1],[1,0],[1,1]])\n",
    "output = np.array([0,1,1,0])\n",
    "print('input', input)\n",
    "print('output', output)\n",
    "\n",
    "# import keras\n",
    "model = keras.sequential([\n",
    "    keras.Dense(5),\n",
    "    keras.Dense(1)\n",
    "])\n",
    "\n",
    "model.fit(..)\n",
    "\n",
    "model.predict()\n",
    "\n",
    "math.log(0.9)\n",
    "\n",
    "def log_loss(y_pred, y_true):\n",
    "    # print(len(y_pred))\n",
    "    print(y_true, y_pred, np.log(y_pred), 1 - y_true, 1 - y_pred, np.log(1 - y_pred))\n",
    "    intermediate = y_true * np.log(y_pred) + (1 - y_true) * np.log(1 - y_pred)\n",
    "    print(intermediate)\n",
    "    return (-1/len(y_pred))*np.sum(intermediate)\n",
    "\n",
    "log_loss(np.array([0.05, 0.1, 0.3, 0.5, 0.7, 0.8, .9]), np.array([0, 0, 0, 0, 0, 0, 0]))"
   ]
  }
 ],
 "metadata": {
  "kernelspec": {
   "display_name": "base",
   "language": "python",
   "name": "python3"
  },
  "language_info": {
   "codemirror_mode": {
    "name": "ipython",
    "version": 3
   },
   "file_extension": ".py",
   "mimetype": "text/x-python",
   "name": "python",
   "nbconvert_exporter": "python",
   "pygments_lexer": "ipython3",
   "version": "3.10.4"
  }
 },
 "nbformat": 4,
 "nbformat_minor": 2
}
